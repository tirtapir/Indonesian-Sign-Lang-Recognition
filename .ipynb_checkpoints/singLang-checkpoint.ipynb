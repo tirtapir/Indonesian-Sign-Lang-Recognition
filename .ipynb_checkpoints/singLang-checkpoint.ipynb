{
 "cells": [
  {
   "cell_type": "markdown",
   "metadata": {},
   "source": [
    "# Import and Install Dependencies"
   ]
  },
  {
   "cell_type": "code",
   "execution_count": 5,
   "metadata": {},
   "outputs": [
    {
     "name": "stdout",
     "output_type": "stream",
     "text": [
      "Collecting tensorflow==1.8.0\n",
      "  Using cached https://storage.googleapis.com/tensorflow/mac/cpu/tensorflow-1.8.0-py3-none-any.whl (46.5 MB)\n",
      "Requirement already satisfied: absl-py>=0.1.6 in /Users/tirtarumy/anaconda3/lib/python3.11/site-packages (from tensorflow==1.8.0) (2.1.0)\n",
      "Requirement already satisfied: astor>=0.6.0 in /Users/tirtarumy/anaconda3/lib/python3.11/site-packages (from tensorflow==1.8.0) (0.8.1)\n",
      "Requirement already satisfied: gast>=0.2.0 in /Users/tirtarumy/anaconda3/lib/python3.11/site-packages (from tensorflow==1.8.0) (0.5.4)\n",
      "Requirement already satisfied: numpy>=1.13.3 in /Users/tirtarumy/anaconda3/lib/python3.11/site-packages (from tensorflow==1.8.0) (1.24.0)\n",
      "Requirement already satisfied: six>=1.10.0 in /Users/tirtarumy/anaconda3/lib/python3.11/site-packages (from tensorflow==1.8.0) (1.16.0)\n",
      "Requirement already satisfied: protobuf>=3.4.0 in /Users/tirtarumy/anaconda3/lib/python3.11/site-packages (from tensorflow==1.8.0) (5.27.1)\n",
      "Requirement already satisfied: tensorboard<1.9.0,>=1.8.0 in /Users/tirtarumy/anaconda3/lib/python3.11/site-packages (from tensorflow==1.8.0) (1.8.0)\n",
      "Requirement already satisfied: termcolor>=1.1.0 in /Users/tirtarumy/anaconda3/lib/python3.11/site-packages (from tensorflow==1.8.0) (2.4.0)\n",
      "Requirement already satisfied: grpcio>=1.8.6 in /Users/tirtarumy/anaconda3/lib/python3.11/site-packages (from tensorflow==1.8.0) (1.64.1)\n",
      "Requirement already satisfied: wheel>=0.26 in /Users/tirtarumy/anaconda3/lib/python3.11/site-packages (from tensorflow==1.8.0) (0.38.4)\n",
      "Requirement already satisfied: werkzeug>=0.11.10 in /Users/tirtarumy/anaconda3/lib/python3.11/site-packages (from tensorboard<1.9.0,>=1.8.0->tensorflow==1.8.0) (2.2.3)\n",
      "Requirement already satisfied: html5lib==0.9999999 in /Users/tirtarumy/anaconda3/lib/python3.11/site-packages (from tensorboard<1.9.0,>=1.8.0->tensorflow==1.8.0) (0.9999999)\n",
      "Requirement already satisfied: markdown>=2.6.8 in /Users/tirtarumy/anaconda3/lib/python3.11/site-packages (from tensorboard<1.9.0,>=1.8.0->tensorflow==1.8.0) (3.4.1)\n",
      "Requirement already satisfied: bleach==1.5.0 in /Users/tirtarumy/anaconda3/lib/python3.11/site-packages (from tensorboard<1.9.0,>=1.8.0->tensorflow==1.8.0) (1.5.0)\n",
      "Requirement already satisfied: MarkupSafe>=2.1.1 in /Users/tirtarumy/anaconda3/lib/python3.11/site-packages (from werkzeug>=0.11.10->tensorboard<1.9.0,>=1.8.0->tensorflow==1.8.0) (2.1.1)\n",
      "Note: you may need to restart the kernel to use updated packages.\n"
     ]
    }
   ],
   "source": [
    "pip install https://storage.googleapis.com/tensorflow/mac/cpu/tensorflow-1.8.0-py3-none-any.whl"
   ]
  },
  {
   "cell_type": "code",
   "execution_count": 1,
   "metadata": {},
   "outputs": [
    {
     "name": "stdout",
     "output_type": "stream",
     "text": [
      "\u001b[31mERROR: Could not find a version that satisfies the requirement tensorflow==2.4.1 (from versions: 2.13.0rc0, 2.13.0rc1, 2.13.0rc2, 2.13.0, 2.13.1, 2.14.0rc0, 2.14.0rc1, 2.14.0, 2.14.1, 2.15.0rc0, 2.15.0rc1, 2.15.0, 2.15.1, 2.16.0rc0, 2.16.1, 2.17.0rc0)\u001b[0m\u001b[31m\n",
      "\u001b[0m\u001b[31mERROR: No matching distribution found for tensorflow==2.4.1\u001b[0m\u001b[31m\n",
      "\u001b[0mNote: you may need to restart the kernel to use updated packages.\n"
     ]
    }
   ],
   "source": [
    "pip install tensorflow==2.4.1 tensorflow-gpu==2.4.1 opencv-python mediapipe sklearn matplotlib"
   ]
  },
  {
   "cell_type": "markdown",
   "metadata": {},
   "source": [
    "# Extract using MP Holistic"
   ]
  },
  {
   "cell_type": "markdown",
   "metadata": {},
   "source": [
    "# Extract keypoint values"
   ]
  },
  {
   "cell_type": "markdown",
   "metadata": {},
   "source": [
    "# Setup Folder for Collections"
   ]
  },
  {
   "cell_type": "markdown",
   "metadata": {},
   "source": [
    "# Collect Keypoint Values for Training & Testing"
   ]
  },
  {
   "cell_type": "markdown",
   "metadata": {},
   "source": [
    "# Preprocess Data and Create Labels and features"
   ]
  },
  {
   "cell_type": "markdown",
   "metadata": {},
   "source": [
    "# Build and train LSTM Neural Network"
   ]
  },
  {
   "cell_type": "markdown",
   "metadata": {},
   "source": [
    "# Make Predictions"
   ]
  },
  {
   "cell_type": "markdown",
   "metadata": {},
   "source": [
    "# Save Weights"
   ]
  },
  {
   "cell_type": "markdown",
   "metadata": {},
   "source": [
    "# Evaluation using Confusion Matrix and Accuracy"
   ]
  },
  {
   "cell_type": "markdown",
   "metadata": {},
   "source": [
    "# Test in Real Time"
   ]
  }
 ],
 "metadata": {
  "kernelspec": {
   "display_name": "Python 3 (ipykernel)",
   "language": "python",
   "name": "python3"
  },
  "language_info": {
   "codemirror_mode": {
    "name": "ipython",
    "version": 3
   },
   "file_extension": ".py",
   "mimetype": "text/x-python",
   "name": "python",
   "nbconvert_exporter": "python",
   "pygments_lexer": "ipython3",
   "version": "3.11.5"
  }
 },
 "nbformat": 4,
 "nbformat_minor": 2
}
